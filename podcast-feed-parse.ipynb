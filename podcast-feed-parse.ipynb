{
 "metadata": {
  "name": "podcast-feed-parse"
 }, 
 "nbformat": 2, 
 "worksheets": [
  {
   "cells": [
    {
     "cell_type": "code", 
     "collapsed": true, 
     "input": [
      "import feedparser", 
      "import BeautifulSoup", 
      "import requests"
     ], 
     "language": "python", 
     "outputs": [], 
     "prompt_number": 1
    }, 
    {
     "cell_type": "code", 
     "collapsed": true, 
     "input": [
      "from collections import namedtuple as nt"
     ], 
     "language": "python", 
     "outputs": [], 
     "prompt_number": 2
    }, 
    {
     "cell_type": "code", 
     "collapsed": true, 
     "input": [
      "PodcastItem = nt(\"PodcastItem\", 'title url number')"
     ], 
     "language": "python", 
     "outputs": [], 
     "prompt_number": 3
    }, 
    {
     "cell_type": "code", 
     "collapsed": true, 
     "input": [
      "def set_segment_filename(episode, seg_number):", 
      "    segment_filename = \"2013-07-12-episode\" + episode + \"-segment\" + `seg_number` + \".mkd\"", 
      "    return segment_filename"
     ], 
     "language": "python", 
     "outputs": [], 
     "prompt_number": 4
    }, 
    {
     "cell_type": "code", 
     "collapsed": true, 
     "input": [
      "def write_segment_file(segment_filename, yaml):", 
      "    f = open(segment_filename, \"w\")", 
      "    for line in yaml:", 
      "        f.write(line + \"\\n\")", 
      "    f.write(\"\\n\\n ye olde llorum ipsum goeth here \\n\")", 
      "    f.close()"
     ], 
     "language": "python", 
     "outputs": [], 
     "prompt_number": 5
    }, 
    {
     "cell_type": "code", 
     "collapsed": true, 
     "input": [
      "def get_section_title(item):", 
      "    section_title = item.title.contents[0]", 
      "    return section_title"
     ], 
     "language": "python", 
     "outputs": [], 
     "prompt_number": 6
    }, 
    {
     "cell_type": "code", 
     "collapsed": true, 
     "input": [
      "def get_section_link(item):", 
      "    section_link = item.enclosure[\"url\"]", 
      "    return section_link"
     ], 
     "language": "python", 
     "outputs": [], 
     "prompt_number": 7
    }, 
    {
     "cell_type": "code", 
     "collapsed": true, 
     "input": [
      "def get_items_from_feed_url(url):", 
      "    r = requests.get(url)", 
      "    pod_soup = BeautifulSoup.BeautifulSoup(r.content)", 
      "    items = pod_soup.findAll(\"item\")", 
      "    return items"
     ], 
     "language": "python", 
     "outputs": [], 
     "prompt_number": 8
    }, 
    {
     "cell_type": "code", 
     "collapsed": true, 
     "input": [
      "def replace_line_in_yaml(yaml, old_line, new_line):", 
      "    new_yaml = []", 
      "    for line in yaml:", 
      "        if line == old_line:", 
      "            new_yaml.append(new_line)", 
      "        else:", 
      "            new_yaml.append(line)", 
      "    return new_yaml"
     ], 
     "language": "python", 
     "outputs": [], 
     "prompt_number": 9
    }, 
    {
     "cell_type": "code", 
     "collapsed": true, 
     "input": [
      "def set_url(yaml, url):", 
      "    old_line = \"segment-audio:\"", 
      "    new_line = \"segment-audio: \" + url", 
      "    new_yaml = replace_line_in_yaml(yaml, old_line, new_line)", 
      "    return new_yaml"
     ], 
     "language": "python", 
     "outputs": [], 
     "prompt_number": 21
    }, 
    {
     "cell_type": "code", 
     "collapsed": true, 
     "input": [
      "def set_title(yaml, title):", 
      "    old_line = \"title:\"", 
      "    new_line = \"title: \" + title", 
      "    new_yaml = replace_line_in_yaml(yaml, old_line, new_line)", 
      "    return new_yaml"
     ], 
     "language": "python", 
     "outputs": [], 
     "prompt_number": 11
    }, 
    {
     "cell_type": "code", 
     "collapsed": true, 
     "input": [
      "def set_segment_value(yaml, seg_number):", 
      "    old_line = \"segment: N\"", 
      "    new_line = \"segment: \" + `seg_number`", 
      "    new_yaml = replace_line_in_yaml(yaml, old_line, new_line)", 
      "    return new_yaml"
     ], 
     "language": "python", 
     "outputs": [], 
     "prompt_number": 12
    }, 
    {
     "cell_type": "code", 
     "collapsed": true, 
     "input": [
      "def set_episode_value(yaml, episode):", 
      "    old_line = \"episode: M\"", 
      "    new_line = \"episode: \" + episode", 
      "    new_yaml = replace_line_in_yaml(yaml, old_line, new_line)", 
      "    return new_yaml"
     ], 
     "language": "python", 
     "outputs": [], 
     "prompt_number": 13
    }, 
    {
     "cell_type": "code", 
     "collapsed": true, 
     "input": [
      "def set_episode_category(yaml, episode):", 
      "    old_line = \" - episodeX\"", 
      "    new_line = \" - episode\" + episode", 
      "    new_yaml = replace_line_in_yaml(yaml, old_line, new_line)", 
      "    return new_yaml"
     ], 
     "language": "python", 
     "outputs": [], 
     "prompt_number": 14
    }, 
    {
     "cell_type": "code", 
     "collapsed": true, 
     "input": [
      "def build_yaml_from_section(episode, section):", 
      "    yaml = [\"---\",", 
      "            \"layout: segment\",", 
      "            \"title:\",", 
      "            \"categories:\",", 
      "            \" - segment\",", 
      "            \" - episodeX\",", 
      "            \"features:\",", 
      "            \" - ['FEATURE TITLE', 'FEATURE LINK']\",", 
      "            \"articles:\",", 
      "            \" - ['ARTICLE TITLE', 'ARTICLE LINK']\",", 
      "            \"insights:\",", 
      "            \" - ['INSIGHT TITLE', 'INSIGHT LINK']\",", 
      "            \"editorials:\",", 
      "            \" - ['EDITORIAL TITLE', 'EDITORIAL LINK']\",", 
      "            \"episode: M\",", 
      "            \"segment: N\",", 
      "            \"segment-audio:\",", 
      "            \"---\"]", 
      "    yaml = set_url(yaml, section.url)", 
      "    yaml = set_title(yaml, section.title)", 
      "    yaml = set_episode_category(yaml, episode)", 
      "    yaml = set_episode_value(yaml, episode)", 
      "    yaml = set_segment_value(yaml, section.number)", 
      "    #for line in yaml: print line", 
      "    #print \"\"", 
      "    return yaml"
     ], 
     "language": "python", 
     "outputs": [], 
     "prompt_number": 22
    }, 
    {
     "cell_type": "code", 
     "collapsed": true, 
     "input": [
      "# simple feed", 
      "sf = feedparser.parse('http://www.thenakedscientists.com/naked_scientists_podcast.xml')", 
      "", 
      "# enhanced feed", 
      "ef = feedparser.parse('http://www.thenakedscientists.com/naked_scientists_enhanced_podcast.xml')", 
      "", 
      "# chapter feed", 
      "# cf_xml = feedparser.parse('http://www.thenakedscientists.com/HTML/chaptertool/?tx_nakscichapters_pi1[rss_individual]=1&tx_nakscichapters_pi1[podcastID]=1000408')", 
      "url = 'http://www.thenakedscientists.com/HTML/chaptertool/?tx_nakscichapters_pi1[rss_individual]=1&tx_nakscichapters_pi1[podcastID]=1000408'", 
      "r = requests.get(url)"
     ], 
     "language": "python", 
     "outputs": [], 
     "prompt_number": 16
    }, 
    {
     "cell_type": "code", 
     "collapsed": true, 
     "input": [
      "#r.content", 
      "pod_soup = BeautifulSoup.BeautifulSoup(r.content)"
     ], 
     "language": "python", 
     "outputs": [], 
     "prompt_number": 17
    }, 
    {
     "cell_type": "code", 
     "collapsed": true, 
     "input": [
      "items = pod_soup.findAll(\"item\")"
     ], 
     "language": "python", 
     "outputs": [], 
     "prompt_number": 18
    }, 
    {
     "cell_type": "code", 
     "collapsed": true, 
     "input": [
      "sections = []", 
      "section_count = 0", 
      "for item in items:", 
      "    section_count = section_count + 1 ", 
      "    title = get_section_title(item)", 
      "    link = get_section_link(item)", 
      "    section = PodcastItem(title, link, section_count)", 
      "    sections.append(section)"
     ], 
     "language": "python", 
     "outputs": [], 
     "prompt_number": 19
    }, 
    {
     "cell_type": "code", 
     "collapsed": false, 
     "input": [
      "for section in sections:", 
      "    episode = \"1\"", 
      "    output_yaml = build_yaml_from_section(episode, section)", 
      "    segment_filename = set_segment_filename(episode, section.number)", 
      "    print segment_filename", 
      "    print output_yaml", 
      "    #write_segment_file(segment_filename, output_yaml)", 
      "    "
     ], 
     "language": "python", 
     "outputs": [
      {
       "output_type": "stream", 
       "stream": "stdout", 
       "text": [
        "2013-07-12-episode1-segment1.mkd", 
        "['---', 'layout: segment', u'title: Start of Show', 'categories:', ' - segment', ' - episode1', 'features:', \" - ['FEATURE TITLE', 'FEATURE LINK']\", 'articles:', \" - ['ARTICLE TITLE', 'ARTICLE LINK']\", 'insights:', \" - ['INSIGHT TITLE', 'INSIGHT LINK']\", 'editorials:', \" - ['EDITORIAL TITLE', 'EDITORIAL LINK']\", 'episode: 1', 'segment: 1', u'segment-audio: http://nakeddiscovery.com/downloads/split_individual/13.06.27/Naked_Scientists_Show_13.06.27_1000957.mp3', '---']", 
        "2013-07-12-episode1-segment2.mkd", 
        "['---', 'layout: segment', u'title: Coating firmly anchors bone implants', 'categories:', ' - segment', ' - episode1', 'features:', \" - ['FEATURE TITLE', 'FEATURE LINK']\", 'articles:', \" - ['ARTICLE TITLE', 'ARTICLE LINK']\", 'insights:', \" - ['INSIGHT TITLE', 'INSIGHT LINK']\", 'editorials:', \" - ['EDITORIAL TITLE', 'EDITORIAL LINK']\", 'episode: 1', 'segment: 2', u'segment-audio: http://nakeddiscovery.com/downloads/split_individual/13.06.27/Naked_Scientists_Show_13.06.27_1000942.mp3', '---']", 
        "2013-07-12-episode1-segment3.mkd", 
        "['---', 'layout: segment', u'title: Can magnets improve the language of stroke patients?', 'categories:', ' - segment', ' - episode1', 'features:', \" - ['FEATURE TITLE', 'FEATURE LINK']\", 'articles:', \" - ['ARTICLE TITLE', 'ARTICLE LINK']\", 'insights:', \" - ['INSIGHT TITLE', 'INSIGHT LINK']\", 'editorials:', \" - ['EDITORIAL TITLE', 'EDITORIAL LINK']\", 'episode: 1', 'segment: 3', u'segment-audio: http://nakeddiscovery.com/downloads/split_individual/13.06.27/Naked_Scientists_Show_13.06.27_1000943.mp3', '---']", 
        "2013-07-12-episode1-segment4.mkd", 
        "['---', 'layout: segment', u'title: Buying a Pint with Bitcoins', 'categories:', ' - segment', ' - episode1', 'features:', \" - ['FEATURE TITLE', 'FEATURE LINK']\", 'articles:', \" - ['ARTICLE TITLE', 'ARTICLE LINK']\", 'insights:', \" - ['INSIGHT TITLE', 'INSIGHT LINK']\", 'editorials:', \" - ['EDITORIAL TITLE', 'EDITORIAL LINK']\", 'episode: 1', 'segment: 4', u'segment-audio: http://nakeddiscovery.com/downloads/split_individual/13.06.27/Naked_Scientists_Show_13.06.27_1000944.mp3', '---']", 
        "2013-07-12-episode1-segment5.mkd", 
        "['---', 'layout: segment', u'title: Keeping an eye on diabetes', 'categories:', ' - segment', ' - episode1', 'features:', \" - ['FEATURE TITLE', 'FEATURE LINK']\", 'articles:', \" - ['ARTICLE TITLE', 'ARTICLE LINK']\", 'insights:', \" - ['INSIGHT TITLE', 'INSIGHT LINK']\", 'editorials:', \" - ['EDITORIAL TITLE', 'EDITORIAL LINK']\", 'episode: 1', 'segment: 5', u'segment-audio: http://nakeddiscovery.com/downloads/split_individual/13.06.27/Naked_Scientists_Show_13.06.27_1000945.mp3', '---']", 
        "2013-07-12-episode1-segment6.mkd", 
        "['---', 'layout: segment', u'title: How does our imagination affect what we see and hear?', 'categories:', ' - segment', ' - episode1', 'features:', \" - ['FEATURE TITLE', 'FEATURE LINK']\", 'articles:', \" - ['ARTICLE TITLE', 'ARTICLE LINK']\", 'insights:', \" - ['INSIGHT TITLE', 'INSIGHT LINK']\", 'editorials:', \" - ['EDITORIAL TITLE', 'EDITORIAL LINK']\", 'episode: 1', 'segment: 6', u'segment-audio: http://nakeddiscovery.com/downloads/split_individual/13.06.27/Naked_Scientists_Show_13.06.27_1000946.mp3', '---']", 
        "2013-07-12-episode1-segment7.mkd", 
        "['---', 'layout: segment', u'title: Maths maketh mortgage success', 'categories:', ' - segment', ' - episode1', 'features:', \" - ['FEATURE TITLE', 'FEATURE LINK']\", 'articles:', \" - ['ARTICLE TITLE', 'ARTICLE LINK']\", 'insights:', \" - ['INSIGHT TITLE', 'INSIGHT LINK']\", 'editorials:', \" - ['EDITORIAL TITLE', 'EDITORIAL LINK']\", 'episode: 1', 'segment: 7', u'segment-audio: http://nakeddiscovery.com/downloads/split_individual/13.06.27/Naked_Scientists_Show_13.06.27_1000947.mp3', '---']", 
        "2013-07-12-episode1-segment8.mkd", 
        "['---', 'layout: segment', u'title: Breastfeed for a higher social class', 'categories:', ' - segment', ' - episode1', 'features:', \" - ['FEATURE TITLE', 'FEATURE LINK']\", 'articles:', \" - ['ARTICLE TITLE', 'ARTICLE LINK']\", 'insights:', \" - ['INSIGHT TITLE', 'INSIGHT LINK']\", 'editorials:', \" - ['EDITORIAL TITLE', 'EDITORIAL LINK']\", 'episode: 1', 'segment: 8', u'segment-audio: http://nakeddiscovery.com/downloads/split_individual/13.06.27/Naked_Scientists_Show_13.06.27_1000948.mp3', '---']", 
        "2013-07-12-episode1-segment9.mkd", 
        "['---', 'layout: segment', u'title: Plants count in their sleep', 'categories:', ' - segment', ' - episode1', 'features:', \" - ['FEATURE TITLE', 'FEATURE LINK']\", 'articles:', \" - ['ARTICLE TITLE', 'ARTICLE LINK']\", 'insights:', \" - ['INSIGHT TITLE', 'INSIGHT LINK']\", 'editorials:', \" - ['EDITORIAL TITLE', 'EDITORIAL LINK']\", 'episode: 1', 'segment: 9', u'segment-audio: http://nakeddiscovery.com/downloads/split_individual/13.06.27/Naked_Scientists_Show_13.06.27_1000950.mp3', '---']", 
        "2013-07-12-episode1-segment10.mkd", 
        "['---', 'layout: segment', u'title: Modelling! Medical mimicry', 'categories:', ' - segment', ' - episode1', 'features:', \" - ['FEATURE TITLE', 'FEATURE LINK']\", 'articles:', \" - ['ARTICLE TITLE', 'ARTICLE LINK']\", 'insights:', \" - ['INSIGHT TITLE', 'INSIGHT LINK']\", 'editorials:', \" - ['EDITORIAL TITLE', 'EDITORIAL LINK']\", 'episode: 1', 'segment: 10', u'segment-audio: http://nakeddiscovery.com/downloads/split_individual/13.06.27/Naked_Scientists_Show_13.06.27_1000952.mp3', '---']", 
        "2013-07-12-episode1-segment11.mkd", 
        "['---', 'layout: segment', u'title: A 3D breast in a dish?', 'categories:', ' - segment', ' - episode1', 'features:', \" - ['FEATURE TITLE', 'FEATURE LINK']\", 'articles:', \" - ['ARTICLE TITLE', 'ARTICLE LINK']\", 'insights:', \" - ['INSIGHT TITLE', 'INSIGHT LINK']\", 'editorials:', \" - ['EDITORIAL TITLE', 'EDITORIAL LINK']\", 'episode: 1', 'segment: 11', u'segment-audio: http://nakeddiscovery.com/downloads/split_individual/13.06.27/Naked_Scientists_Show_13.06.27_1000953.mp3', '---']", 
        "2013-07-12-episode1-segment12.mkd", 
        "['---', 'layout: segment', u'title: Computational coding to crack disease!', 'categories:', ' - segment', ' - episode1', 'features:', \" - ['FEATURE TITLE', 'FEATURE LINK']\", 'articles:', \" - ['ARTICLE TITLE', 'ARTICLE LINK']\", 'insights:', \" - ['INSIGHT TITLE', 'INSIGHT LINK']\", 'editorials:', \" - ['EDITORIAL TITLE', 'EDITORIAL LINK']\", 'episode: 1', 'segment: 12', u'segment-audio: http://nakeddiscovery.com/downloads/split_individual/13.06.27/Naked_Scientists_Show_13.06.27_1000955.mp3', '---']", 
        "2013-07-12-episode1-segment13.mkd", 
        "['---', 'layout: segment', u'title: QOTW: How does training affect free will?', 'categories:', ' - segment', ' - episode1', 'features:', \" - ['FEATURE TITLE', 'FEATURE LINK']\", 'articles:', \" - ['ARTICLE TITLE', 'ARTICLE LINK']\", 'insights:', \" - ['INSIGHT TITLE', 'INSIGHT LINK']\", 'editorials:', \" - ['EDITORIAL TITLE', 'EDITORIAL LINK']\", 'episode: 1', 'segment: 13', u'segment-audio: http://nakeddiscovery.com/downloads/split_individual/13.06.27/Naked_Scientists_Show_13.06.27_1000956.mp3', '---']"
       ]
      }
     ], 
     "prompt_number": 23
    }, 
    {
     "cell_type": "code", 
     "collapsed": false, 
     "input": [
      "output_yaml"
     ], 
     "language": "python", 
     "outputs": [
      {
       "output_type": "pyout", 
       "prompt_number": 95, 
       "text": [
        "['---',", 
        " 'layout: segment',", 
        " u'title: QOTW: How does training affect free will?',", 
        " 'categories:',", 
        " ' - segment',", 
        " ' - episode1',", 
        " 'features:',", 
        " \" - ['FEATURE TITLE', 'FEATURE LINK']\",", 
        " 'articles:',", 
        " \" - ['ARTICLE TITLE', 'ARTICLE LINK']\",", 
        " 'insights:',", 
        " \" - ['INSIGHT TITLE', 'INSIGHT LINK']\",", 
        " 'editorials:',", 
        " \" - ['EDITORIAL TITLE', 'EDITORIAL LINK']\",", 
        " 'episode: 1',", 
        " 'segment: 13',", 
        " u'audio_url: http://nakeddiscovery.com/downloads/split_individual/13.06.27/Naked_Scientists_Show_13.06.27_1000956.mp3',", 
        " '---']"
       ]
      }
     ], 
     "prompt_number": 95
    }, 
    {
     "cell_type": "code", 
     "collapsed": true, 
     "input": [], 
     "language": "python", 
     "outputs": []
    }
   ]
  }
 ]
}
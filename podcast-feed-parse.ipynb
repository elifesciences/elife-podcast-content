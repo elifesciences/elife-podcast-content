{
 "metadata": {
  "name": "podcast-feed-parse"
 }, 
 "nbformat": 2, 
 "worksheets": [
  {
   "cells": [
    {
     "cell_type": "code", 
     "collapsed": true, 
     "input": [
      "import feedparser", 
      "import BeautifulSoup", 
      "import requests"
     ], 
     "language": "python", 
     "outputs": [], 
     "prompt_number": 1
    }, 
    {
     "cell_type": "code", 
     "collapsed": true, 
     "input": [
      "from collections import namedtuple as nt"
     ], 
     "language": "python", 
     "outputs": [], 
     "prompt_number": 2
    }, 
    {
     "cell_type": "markdown", 
     "source": [
      "# The list of feeds are:", 
      "", 
      "- standard xml [http://www.thenakedscientists.com/rss/eLife_podcast.xml](http://www.thenakedscientists.com/rss/eLife_podcast.xml)", 
      "- enhanced xml [http://www.thenakedscientists.com/rss/eLife_podcast_enhanced.xml](http://www.thenakedscientists.com/rss/eLife_podcast_enhanced.xml)", 
      "- Individual chapter items June [http://www.thenakedscientists.com/HTML/chaptertool/?tx_nakscichapters_pi1[rss_individual]=1&tx_nakscichapters_pi1[podcastID]=1000437](http://www.thenakedscientists.com/HTML/chaptertool/?tx_nakscichapters_pi1[rss_individual]=1&tx_nakscichapters_pi1[podcastID]=1000437)", 
      "- Individual chapter items July [http://www.thenakedscientists.com/HTML/chaptertool/?tx_nakscichapters_pi1[rss_individual]=1&tx_nakscichapters_pi1[podcastID]=1000438](http://www.thenakedscientists.com/HTML/chaptertool/?tx_nakscichapters_pi1[rss_individual]=1&tx_nakscichapters_pi1[podcastID]=1000438)"
     ]
    }, 
    {
     "cell_type": "markdown", 
     "source": [
      "# audio for full episodes", 
      "- June [http://nakeddiscovery.com/libsyn/eLife_Podcast_13.06.mp3](http://nakeddiscovery.com/libsyn/eLife_Podcast_13.06.mp3)", 
      "- July [http://nakeddiscovery.com/libsyn/eLife_Podcast_13.07.mp3](http://nakeddiscovery.com/libsyn/eLife_Podcast_13.07.mp3)"
     ]
    }, 
    {
     "cell_type": "code", 
     "collapsed": true, 
     "input": [
      "PodcastItem = nt(\"PodcastItem\", 'title url number')"
     ], 
     "language": "python", 
     "outputs": [], 
     "prompt_number": 3
    }, 
    {
     "cell_type": "code", 
     "collapsed": true, 
     "input": [
      "def set_segment_filename(episode, seg_number):", 
      "    segment_filename = \"2013-07-12-episode\" + episode + \"-segment\" + `seg_number` + \".mkd\"", 
      "    return segment_filename"
     ], 
     "language": "python", 
     "outputs": [], 
     "prompt_number": 4
    }, 
    {
     "cell_type": "code", 
     "collapsed": true, 
     "input": [
      "def write_segment_file(segment_filename, yaml):", 
      "    f = open(segment_filename, \"w\")", 
      "    for line in yaml:", 
      "        f.write(line + \"\\n\")", 
      "    f.write(\"\\n\\n ye olde llorum ipsum goeth here \\n\")", 
      "    f.close()"
     ], 
     "language": "python", 
     "outputs": [], 
     "prompt_number": 5
    }, 
    {
     "cell_type": "code", 
     "collapsed": true, 
     "input": [
      "def get_section_title(item):", 
      "    section_title = item.title.contents[0]", 
      "    return section_title"
     ], 
     "language": "python", 
     "outputs": [], 
     "prompt_number": 6
    }, 
    {
     "cell_type": "code", 
     "collapsed": true, 
     "input": [
      "def get_section_link(item):", 
      "    section_link = item.enclosure[\"url\"]", 
      "    return section_link"
     ], 
     "language": "python", 
     "outputs": [], 
     "prompt_number": 7
    }, 
    {
     "cell_type": "code", 
     "collapsed": true, 
     "input": [
      "def get_items_from_feed_url(url):", 
      "    r = requests.get(url)", 
      "    pod_soup = BeautifulSoup.BeautifulSoup(r.content)", 
      "    items = pod_soup.findAll(\"item\")", 
      "    return items"
     ], 
     "language": "python", 
     "outputs": [], 
     "prompt_number": 8
    }, 
    {
     "cell_type": "code", 
     "collapsed": true, 
     "input": [
      "def replace_line_in_yaml(yaml, old_line, new_line):", 
      "    new_yaml = []", 
      "    for line in yaml:", 
      "        if line == old_line:", 
      "            new_yaml.append(new_line)", 
      "        else:", 
      "            new_yaml.append(line)", 
      "    return new_yaml"
     ], 
     "language": "python", 
     "outputs": [], 
     "prompt_number": 9
    }, 
    {
     "cell_type": "code", 
     "collapsed": true, 
     "input": [
      "def set_url(yaml, url):", 
      "    old_line = \"segment-audio:\"", 
      "    new_line = \"segment-audio: \" + url", 
      "    new_yaml = replace_line_in_yaml(yaml, old_line, new_line)", 
      "    return new_yaml"
     ], 
     "language": "python", 
     "outputs": [], 
     "prompt_number": 21
    }, 
    {
     "cell_type": "code", 
     "collapsed": true, 
     "input": [
      "def set_title(yaml, title):", 
      "    old_line = \"title:\"", 
      "    new_line = \"title: \" + title", 
      "    new_yaml = replace_line_in_yaml(yaml, old_line, new_line)", 
      "    return new_yaml"
     ], 
     "language": "python", 
     "outputs": [], 
     "prompt_number": 11
    }, 
    {
     "cell_type": "code", 
     "collapsed": true, 
     "input": [
      "def set_segment_value(yaml, seg_number):", 
      "    old_line = \"segment: N\"", 
      "    new_line = \"segment: \" + `seg_number`", 
      "    new_yaml = replace_line_in_yaml(yaml, old_line, new_line)", 
      "    return new_yaml"
     ], 
     "language": "python", 
     "outputs": [], 
     "prompt_number": 12
    }, 
    {
     "cell_type": "code", 
     "collapsed": true, 
     "input": [
      "def set_episode_value(yaml, episode):", 
      "    old_line = \"episode: M\"", 
      "    new_line = \"episode: \" + episode", 
      "    new_yaml = replace_line_in_yaml(yaml, old_line, new_line)", 
      "    return new_yaml"
     ], 
     "language": "python", 
     "outputs": [], 
     "prompt_number": 13
    }, 
    {
     "cell_type": "code", 
     "collapsed": true, 
     "input": [
      "def set_episode_category(yaml, episode):", 
      "    old_line = \" - episodeX\"", 
      "    new_line = \" - episode\" + episode", 
      "    new_yaml = replace_line_in_yaml(yaml, old_line, new_line)", 
      "    return new_yaml"
     ], 
     "language": "python", 
     "outputs": [], 
     "prompt_number": 14
    }, 
    {
     "cell_type": "code", 
     "collapsed": true, 
     "input": [
      "def build_episode_description_yaml(episode, url):", 
      "    yaml = [\"---\",", 
      "            \"layout: segment\",", 
      "            \"title:\",", 
      "            \"categories:\",", 
      "            \"- description\",", 
      "            \" - episode\",", 
      "            \" - episodeX\",", 
      "            \"episode: M\",", 
      "            \"episode-audio:\",", 
      "            \"---\"]", 
      "    yaml = set_url(yaml, section.url)", 
      "    yaml = set_title(yaml, section.title)", 
      "    yaml = set_episode_category(yaml, episode)", 
      "    yaml = set_episode_value(yaml, episode)", 
      "    yaml = set_segment_value(yaml, section.number)", 
      "    #for line in yaml: print line", 
      "    #print \"\"", 
      "    return yaml"
     ], 
     "language": "python", 
     "outputs": []
    }, 
    {
     "cell_type": "code", 
     "collapsed": true, 
     "input": [
      "def build_yaml_from_section(episode, section):", 
      "    yaml = [\"---\",", 
      "            \"layout: segment\",", 
      "            \"title:\",", 
      "            \"categories:\",", 
      "            \" - segment\",", 
      "            \" - episodeX\",", 
      "            \"features:\",", 
      "            \" - ['FEATURE TITLE', 'FEATURE LINK']\",", 
      "            \"articles:\",", 
      "            \" - ['ARTICLE TITLE', 'ARTICLE LINK']\",", 
      "            \"insights:\",", 
      "            \" - ['INSIGHT TITLE', 'INSIGHT LINK']\",", 
      "            \"editorials:\",", 
      "            \" - ['EDITORIAL TITLE', 'EDITORIAL LINK']\",", 
      "            \"episode: M\",", 
      "            \"segment: N\",", 
      "            \"segment-audio:\",", 
      "            \"---\"]", 
      "    yaml = set_url(yaml, section.url)", 
      "    yaml = set_title(yaml, section.title)", 
      "    yaml = set_episode_category(yaml, episode)", 
      "    yaml = set_episode_value(yaml, episode)", 
      "    yaml = set_segment_value(yaml, section.number)", 
      "    #for line in yaml: print line", 
      "    #print \"\"", 
      "    return yaml"
     ], 
     "language": "python", 
     "outputs": [], 
     "prompt_number": 22
    }, 
    {
     "cell_type": "code", 
     "collapsed": true, 
     "input": [
      "# simple feed", 
      "sf = feedparser.parse('http://www.thenakedscientists.com/naked_scientists_podcast.xml')", 
      "", 
      "# enhanced feed", 
      "ef = feedparser.parse('http://www.thenakedscientists.com/naked_scientists_enhanced_podcast.xml')", 
      "", 
      "# chapter feed", 
      "# cf_xml = feedparser.parse('http://www.thenakedscientists.com/HTML/chaptertool/?tx_nakscichapters_pi1[rss_individual]=1&tx_nakscichapters_pi1[podcastID]=1000408')", 
      "url = 'http://www.thenakedscientists.com/HTML/chaptertool/?tx_nakscichapters_pi1[rss_individual]=1&tx_nakscichapters_pi1[podcastID]=1000408'", 
      "eLife_url_enhanced = 'http://www.thenakedscientists.com/HTML/chaptertool/?tx_nakscichapters_pi1[rss_individual]=1&tx_nakscichapters_pi1[podcastID]=1000437'", 
      "", 
      "eue_e2 = 'http://www.thenakedscientists.com/HTML/chaptertool/?tx_nakscichapters_pi1[rss_individual]=1&tx_nakscichapters_pi1[podcastID]=1000438'", 
      "r = requests.get(eLife_url_enhanced)", 
      "r2 = requests.get(eue_e2) "
     ], 
     "language": "python", 
     "outputs": [], 
     "prompt_number": 35
    }, 
    {
     "cell_type": "code", 
     "collapsed": true, 
     "input": [
      "#r.content", 
      "pod_soup = BeautifulSoup.BeautifulSoup(r.content)"
     ], 
     "language": "python", 
     "outputs": [], 
     "prompt_number": 36
    }, 
    {
     "cell_type": "code", 
     "collapsed": true, 
     "input": [
      "items_episode_one = pod_soup.findAll(\"item\")"
     ], 
     "language": "python", 
     "outputs": [], 
     "prompt_number": 37
    }, 
    {
     "cell_type": "code", 
     "collapsed": true, 
     "input": [
      "pod_soup_episode_two = BeautifulSoup.BeautifulSoup(r2.content)", 
      "items_episode_two = pod_soup_episode_two.findAll(\"item\")"
     ], 
     "language": "python", 
     "outputs": [], 
     "prompt_number": 38
    }, 
    {
     "cell_type": "code", 
     "collapsed": true, 
     "input": [
      "def gen_sections(items):", 
      "    sections = []", 
      "    section_count = 0", 
      "    for item in items:", 
      "        title = get_section_title(item)", 
      "        link = get_section_link(item)", 
      "        section = PodcastItem(title, link, section_count)", 
      "        sections.append(section)", 
      "        section_count = section_count + 1 ", 
      "    return sections"
     ], 
     "language": "python", 
     "outputs": [], 
     "prompt_number": 50
    }, 
    {
     "cell_type": "code", 
     "collapsed": false, 
     "input": [
      "def gen_yam_for_episode_segments(episode, sections):", 
      "    for section in sections:", 
      "        output_yaml = build_yaml_from_section(episode, section)", 
      "        segment_filename = set_segment_filename(episode, section.number)", 
      "        print segment_filename", 
      "        #print output_yaml", 
      "        write_segment_file(segment_filename, output_yaml)"
     ], 
     "language": "python", 
     "outputs": [], 
     "prompt_number": 53
    }, 
    {
     "cell_type": "code", 
     "collapsed": false, 
     "input": [
      "episode = \"1\"", 
      "sections_one = gen_sections(items_episode_one)", 
      "gen_yam_for_episode_segments(episode, sections_one)"
     ], 
     "language": "python", 
     "outputs": [
      {
       "output_type": "stream", 
       "stream": "stdout", 
       "text": [
        "2013-07-12-episode1-segment0.mkd", 
        "2013-07-12-episode1-segment1.mkd", 
        "2013-07-12-episode1-segment2.mkd", 
        "2013-07-12-episode1-segment3.mkd", 
        "2013-07-12-episode1-segment4.mkd", 
        "2013-07-12-episode1-segment5.mkd", 
        "2013-07-12-episode1-segment6.mkd"
       ]
      }
     ], 
     "prompt_number": 54
    }, 
    {
     "cell_type": "code", 
     "collapsed": false, 
     "input": [
      "episode = \"2\"", 
      "sections_two = gen_sections(items_episode_two)", 
      "gen_yam_for_episode_segments(episode, sections_two)"
     ], 
     "language": "python", 
     "outputs": [
      {
       "output_type": "stream", 
       "stream": "stdout", 
       "text": [
        "2013-07-12-episode2-segment0.mkd", 
        "2013-07-12-episode2-segment1.mkd", 
        "2013-07-12-episode2-segment2.mkd", 
        "2013-07-12-episode2-segment3.mkd", 
        "2013-07-12-episode2-segment4.mkd", 
        "2013-07-12-episode2-segment5.mkd"
       ]
      }
     ], 
     "prompt_number": 55
    }, 
    {
     "cell_type": "code", 
     "collapsed": true, 
     "input": [], 
     "language": "python", 
     "outputs": []
    }
   ]
  }
 ]
}